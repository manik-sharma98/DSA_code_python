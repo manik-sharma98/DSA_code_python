{
 "cells": [
  {
   "cell_type": "code",
   "execution_count": 1,
   "metadata": {},
   "outputs": [],
   "source": [
    "import numpy as np\n",
    "import matplotlib.pyplot as plt\n",
    "from utils import *\n",
    "\n",
    "%matplotlib inline"
   ]
  },
  {
   "cell_type": "code",
   "execution_count": 11,
   "metadata": {},
   "outputs": [],
   "source": [
    "def find_closet_centroids(X,centroids):\n",
    "    k = centroids.shape[0]\n",
    "    idx = np.zeros(X.shape[0],dtype=int)\n",
    "\n",
    "    for i in range(X.shape[0]):\n",
    "        dist = []\n",
    "        for j in range(k):\n",
    "            norm_ij = np.linalg.norm(X[i] - centroids[j])\n",
    "            dist.append(norm_ij)\n",
    "        idx[i] = np.argmin(dist)\n",
    "    return idx\n",
    "\n",
    "def compute_centroids(X,idx,K):\n",
    "    m,n = X.shape\n",
    "    centroids = np.zeros((K,n))\n",
    "\n",
    "    for i in range(K):\n",
    "        points = X[idx==i]\n",
    "        centroids[i] = np.mean(points)\n",
    "    return centroids\n"
   ]
  },
  {
   "cell_type": "code",
   "execution_count": 12,
   "metadata": {},
   "outputs": [
    {
     "name": "stdout",
     "output_type": "stream",
     "text": [
      "First three elements in idx are: [0 2 1]\n",
      "The centroids are: [[2.79311264 2.79311264]\n",
      " [4.22357988 4.22357988]\n",
      " [5.36803564 5.36803564]]\n"
     ]
    }
   ],
   "source": [
    "X = load_data()\n",
    "initial_centroids = np.array([[3,3], [6,2], [8,5]])\n",
    "idx = find_closet_centroids(X, initial_centroids)\n",
    "\n",
    "print(\"First three elements in idx are:\", idx[:3])\n",
    "K = 3\n",
    "centroids = compute_centroids(X, idx, K)\n",
    "\n",
    "print(\"The centroids are:\", centroids)\n"
   ]
  },
  {
   "cell_type": "code",
   "execution_count": 15,
   "metadata": {},
   "outputs": [],
   "source": [
    "def run_kMeans(X, initial_centroids, max_iters=10):\n",
    "    m,n = X.shape\n",
    "    K = initial_centroids.shape[0]\n",
    "    centroids = initial_centroids\n",
    "    idx = np.zeros(m)\n",
    "    for i in range(max_iters):\n",
    "        idx = find_closet_centroids(X,centroids)\n",
    "        compute_centroids(X,idx,K)\n",
    "    return idx,centroids\n",
    "\n",
    "def get_kmeans(X,K):\n",
    "    randix = np.random.permutation(X.shape[0])\n",
    "    centroids = X[randix[:K]]\n",
    "    return centroids\n"
   ]
  },
  {
   "cell_type": "code",
   "execution_count": 19,
   "metadata": {},
   "outputs": [
    {
     "ename": "KeyboardInterrupt",
     "evalue": "",
     "output_type": "error",
     "traceback": [
      "\u001b[1;31m---------------------------------------------------------------------------\u001b[0m",
      "\u001b[1;31mKeyboardInterrupt\u001b[0m                         Traceback (most recent call last)",
      "Cell \u001b[1;32mIn[19], line 12\u001b[0m\n\u001b[0;32m     10\u001b[0m \u001b[38;5;66;03m# Run K-Means - this can take a couple of minutes depending on K and max_iters\u001b[39;00m\n\u001b[0;32m     11\u001b[0m centroids, idx \u001b[38;5;241m=\u001b[39m run_kMeans(X_img, initial_centroids, max_iters)\n\u001b[1;32m---> 12\u001b[0m idx \u001b[38;5;241m=\u001b[39m \u001b[43mfind_closet_centroids\u001b[49m\u001b[43m(\u001b[49m\u001b[43mX_img\u001b[49m\u001b[43m,\u001b[49m\u001b[43m \u001b[49m\u001b[43mcentroids\u001b[49m\u001b[43m)\u001b[49m\n\u001b[0;32m     14\u001b[0m \u001b[38;5;66;03m# Replace each pixel with the color of the closest centroid\u001b[39;00m\n\u001b[0;32m     15\u001b[0m X_recovered \u001b[38;5;241m=\u001b[39m centroids[idx, :] \n",
      "Cell \u001b[1;32mIn[11], line 8\u001b[0m, in \u001b[0;36mfind_closet_centroids\u001b[1;34m(X, centroids)\u001b[0m\n\u001b[0;32m      6\u001b[0m dist \u001b[38;5;241m=\u001b[39m []\n\u001b[0;32m      7\u001b[0m \u001b[38;5;28;01mfor\u001b[39;00m j \u001b[38;5;129;01min\u001b[39;00m \u001b[38;5;28mrange\u001b[39m(k):\n\u001b[1;32m----> 8\u001b[0m     norm_ij \u001b[38;5;241m=\u001b[39m \u001b[43mnp\u001b[49m\u001b[38;5;241;43m.\u001b[39;49m\u001b[43mlinalg\u001b[49m\u001b[38;5;241;43m.\u001b[39;49m\u001b[43mnorm\u001b[49m\u001b[43m(\u001b[49m\u001b[43mX\u001b[49m\u001b[43m[\u001b[49m\u001b[43mi\u001b[49m\u001b[43m]\u001b[49m\u001b[43m \u001b[49m\u001b[38;5;241;43m-\u001b[39;49m\u001b[43m \u001b[49m\u001b[43mcentroids\u001b[49m\u001b[43m[\u001b[49m\u001b[43mj\u001b[49m\u001b[43m]\u001b[49m\u001b[43m)\u001b[49m\n\u001b[0;32m      9\u001b[0m     dist\u001b[38;5;241m.\u001b[39mappend(norm_ij)\n\u001b[0;32m     10\u001b[0m idx[i] \u001b[38;5;241m=\u001b[39m np\u001b[38;5;241m.\u001b[39margmin(dist)\n",
      "File \u001b[1;32m<__array_function__ internals>:200\u001b[0m, in \u001b[0;36mnorm\u001b[1;34m(*args, **kwargs)\u001b[0m\n",
      "File \u001b[1;32m~\\AppData\\Local\\Packages\\PythonSoftwareFoundation.Python.3.10_qbz5n2kfra8p0\\LocalCache\\local-packages\\Python310\\site-packages\\numpy\\linalg\\linalg.py:2511\u001b[0m, in \u001b[0;36mnorm\u001b[1;34m(x, ord, axis, keepdims)\u001b[0m\n\u001b[0;32m   2509\u001b[0m     sqnorm \u001b[38;5;241m=\u001b[39m x_real\u001b[38;5;241m.\u001b[39mdot(x_real) \u001b[38;5;241m+\u001b[39m x_imag\u001b[38;5;241m.\u001b[39mdot(x_imag)\n\u001b[0;32m   2510\u001b[0m \u001b[38;5;28;01melse\u001b[39;00m:\n\u001b[1;32m-> 2511\u001b[0m     sqnorm \u001b[38;5;241m=\u001b[39m \u001b[43mx\u001b[49m\u001b[38;5;241;43m.\u001b[39;49m\u001b[43mdot\u001b[49m\u001b[43m(\u001b[49m\u001b[43mx\u001b[49m\u001b[43m)\u001b[49m\n\u001b[0;32m   2512\u001b[0m ret \u001b[38;5;241m=\u001b[39m sqrt(sqnorm)\n\u001b[0;32m   2513\u001b[0m \u001b[38;5;28;01mif\u001b[39;00m keepdims:\n",
      "\u001b[1;31mKeyboardInterrupt\u001b[0m: "
     ]
    }
   ],
   "source": [
    "original_img = plt.imread('bird_small.png')\n",
    "X_img = np.reshape(original_img, (original_img.shape[0] * original_img.shape[1], 3))\n",
    "\n",
    "K = 16\n",
    "max_iters = 10\n",
    "\n",
    "# Using the function you have implemented above. \n",
    "initial_centroids = get_kmeans(X_img, K)\n",
    "\n",
    "# Run K-Means - this can take a couple of minutes depending on K and max_iters\n",
    "centroids, idx = run_kMeans(X_img, initial_centroids, max_iters)\n",
    "idx = find_closet_centroids(X_img, centroids)\n",
    "\n",
    "# Replace each pixel with the color of the closest centroid\n",
    "X_recovered = centroids[idx, :] \n",
    "\n",
    "# Reshape image into proper dimensions\n",
    "X_recovered = np.reshape(X_recovered, original_img.shape) \n"
   ]
  },
  {
   "cell_type": "code",
   "execution_count": null,
   "metadata": {},
   "outputs": [],
   "source": []
  }
 ],
 "metadata": {
  "kernelspec": {
   "display_name": "Python 3",
   "language": "python",
   "name": "python3"
  },
  "language_info": {
   "codemirror_mode": {
    "name": "ipython",
    "version": 3
   },
   "file_extension": ".py",
   "mimetype": "text/x-python",
   "name": "python",
   "nbconvert_exporter": "python",
   "pygments_lexer": "ipython3",
   "version": "3.10.11"
  }
 },
 "nbformat": 4,
 "nbformat_minor": 2
}
