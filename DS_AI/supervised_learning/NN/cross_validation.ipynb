{
 "cells": [
  {
   "cell_type": "code",
   "execution_count": 2,
   "metadata": {},
   "outputs": [],
   "source": [
    "# for array computations and loading data\n",
    "import numpy as np\n",
    "\n",
    "# for building linear regression models and preparing data\n",
    "from sklearn.linear_model import LinearRegression\n",
    "from sklearn.preprocessing import StandardScaler, PolynomialFeatures\n",
    "from sklearn.model_selection import train_test_split\n",
    "from sklearn.metrics import mean_squared_error\n",
    "\n",
    "# for building and training neural networks\n",
    "import tensorflow as tf\n",
    "\n",
    "# custom functions\n",
    "import utils\n",
    "\n",
    "# reduce display precision on numpy arrays\n",
    "np.set_printoptions(precision=2)\n",
    "\n",
    "# suppress warnings\n",
    "tf.get_logger().setLevel('ERROR')\n",
    "tf.autograph.set_verbosity(0)"
   ]
  },
  {
   "cell_type": "code",
   "execution_count": 8,
   "metadata": {},
   "outputs": [],
   "source": [
    "Data = np.loadtxt('./data/data_w3_ex1.csv', delimiter=',')\n",
    "\n",
    "x = Data[:,0]\n",
    "y = Data[:,1]\n",
    "x = np.expand_dims(x, axis=1)\n",
    "y = np.expand_dims(y, axis=1)\n"
   ]
  },
  {
   "cell_type": "code",
   "execution_count": 9,
   "metadata": {},
   "outputs": [],
   "source": [
    "x_train, x_ ,y_train, y_ = train_test_split(x,y,test_size=0.40,random_state=1)\n",
    "\n",
    "x_cv,x_test,y_cv,y_test = train_test_split(x_,y_,test_size=0.50,random_state=1)\n",
    "\n",
    "del x_,y_\n",
    "\n",
    "linear_scaler = StandardScaler()\n",
    "\n",
    "x_train_scaled = linear_scaler.fit_transform(x_train)"
   ]
  },
  {
   "cell_type": "code",
   "execution_count": 15,
   "metadata": {},
   "outputs": [
    {
     "name": "stdout",
     "output_type": "stream",
     "text": [
      "MSE of training set 406.19374192533155\n",
      "MSE of CV set 551.7789026952216\n"
     ]
    }
   ],
   "source": [
    "liner_model = LinearRegression()\n",
    "\n",
    "liner_model.fit(x_train_scaled,y_train)\n",
    "\n",
    "y_hat = liner_model.predict(x_train_scaled)\n",
    "\n",
    "print(\"MSE of training set\",mean_squared_error(y_train,y_hat) /2)\n",
    "\n",
    "x_cv_scaled = linear_scaler.transform(x_cv)\n",
    "\n",
    "y_hat_cv = liner_model.predict(x_cv_scaled)\n",
    "\n",
    "print(\"MSE of CV set\",mean_squared_error(y_cv,y_hat_cv) /2)\n"
   ]
  },
  {
   "cell_type": "code",
   "execution_count": 17,
   "metadata": {},
   "outputs": [],
   "source": [
    "poly = PolynomialFeatures(degree=2,include_bias=False)\n",
    "ploy_scaler = StandardScaler()\n",
    "\n",
    "x_train_mapped = poly.fit_transform(x_train)\n",
    "x_train_mapped_scalled = ploy_scaler.fit_transform(x_train_mapped)\n"
   ]
  },
  {
   "cell_type": "code",
   "execution_count": null,
   "metadata": {},
   "outputs": [],
   "source": []
  }
 ],
 "metadata": {
  "kernelspec": {
   "display_name": "Python 3",
   "language": "python",
   "name": "python3"
  },
  "language_info": {
   "codemirror_mode": {
    "name": "ipython",
    "version": 3
   },
   "file_extension": ".py",
   "mimetype": "text/x-python",
   "name": "python",
   "nbconvert_exporter": "python",
   "pygments_lexer": "ipython3",
   "version": "3.10.11"
  }
 },
 "nbformat": 4,
 "nbformat_minor": 2
}
